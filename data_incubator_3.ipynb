{
 "cells": [
  {
   "cell_type": "markdown",
   "metadata": {},
   "source": [
    "### Importing library"
   ]
  },
  {
   "cell_type": "code",
   "execution_count": 108,
   "metadata": {
    "collapsed": true
   },
   "outputs": [],
   "source": [
    "import pandas as pd\n",
    "import numpy as np\n",
    "import matplotlib.pyplot as plt\n",
    "from nltk.corpus import stopwords\n",
    "from nltk.stem.porter import *"
   ]
  },
  {
   "cell_type": "markdown",
   "metadata": {},
   "source": [
    "### Loading Users.txt file"
   ]
  },
  {
   "cell_type": "code",
   "execution_count": 2,
   "metadata": {
    "collapsed": true
   },
   "outputs": [],
   "source": [
    "user_data=[]\n",
    "with open('F:\\\\my_uwt\\\\tri3\\\\LFM-1b\\\\LFM-1b_users.txt','rt') as f:\n",
    "    for l in f:\n",
    "        line= l.split('\\t')\n",
    "        line[-1]=line[-1].replace('\\n','')\n",
    "        user_data.append(line)"
   ]
  },
  {
   "cell_type": "markdown",
   "metadata": {},
   "source": [
    "### Creating User DataFrame"
   ]
  },
  {
   "cell_type": "code",
   "execution_count": 3,
   "metadata": {
    "collapsed": true
   },
   "outputs": [],
   "source": [
    "user_data_frame = pd.DataFrame(user_data,columns=user_data[0])\n",
    "user_data_frame = user_data_frame[1:]"
   ]
  },
  {
   "cell_type": "code",
   "execution_count": 4,
   "metadata": {
    "collapsed": true
   },
   "outputs": [],
   "source": [
    "user_data_frame.columns = ['user-id', 'country', 'age', 'gender', 'playcount',\n",
    "       'registered_unixtime']"
   ]
  },
  {
   "cell_type": "code",
   "execution_count": 5,
   "metadata": {
    "collapsed": true
   },
   "outputs": [],
   "source": [
    "user_data_frame=user_data_frame.fillna(np.nan)"
   ]
  },
  {
   "cell_type": "markdown",
   "metadata": {},
   "source": [
    "### Creating country dataframe from User Dataframe "
   ]
  },
  {
   "cell_type": "code",
   "execution_count": 6,
   "metadata": {
    "collapsed": true
   },
   "outputs": [],
   "source": [
    "user_country = pd.DataFrame(user_data_frame['country'].value_counts())\n",
    "user_country_total = int(pd.to_numeric(user_country.iloc[0:1,0]))\n",
    "user_country= user_country[1:]"
   ]
  },
  {
   "cell_type": "markdown",
   "metadata": {},
   "source": [
    "### Creating subset of country dataframe with only songs with more than 1000 listeners"
   ]
  },
  {
   "cell_type": "code",
   "execution_count": 7,
   "metadata": {
    "collapsed": true
   },
   "outputs": [],
   "source": [
    "top_user_country=user_country[user_country['country']>1000]"
   ]
  },
  {
   "cell_type": "markdown",
   "metadata": {
    "collapsed": true
   },
   "source": [
    "### Graph for top countries with more than 1000 users"
   ]
  },
  {
   "cell_type": "code",
   "execution_count": 11,
   "metadata": {},
   "outputs": [
    {
     "data": {
      "image/png": "[encoded data removed]",
      "text/plain": [
       "<matplotlib.figure.Figure at 0x1400b3a4550>"
      ]
     },
     "metadata": {},
     "output_type": "display_data"
    }
   ],
   "source": [
    "plt.bar(top_user_country.index,top_user_country['country'])\n",
    "plt.xlabel('Country')\n",
    "plt.ylabel('User count')\n",
    "plt.title('Top Countries with more than 1000 users')\n",
    "plt.show()"
   ]
  },
  {
   "cell_type": "code",
   "execution_count": 12,
   "metadata": {},
   "outputs": [
    {
     "name": "stderr",
     "output_type": "stream",
     "text": [
      "C:\\ProgramData\\Anaconda3\\lib\\site-packages\\ipykernel_launcher.py:1: SettingWithCopyWarning: \n",
      "A value is trying to be set on a copy of a slice from a DataFrame.\n",
      "Try using .loc[row_indexer,col_indexer] = value instead\n",
      "\n",
      "See the caveats in the documentation: http://pandas.pydata.org/pandas-docs/stable/indexing.html#indexing-view-versus-copy\n",
      "  \"\"\"Entry point for launching an IPython kernel.\n"
     ]
    }
   ],
   "source": [
    "top_user_country['Percentage of Total'] = (top_user_country['country']/user_country_total)*100"
   ]
  },
  {
   "cell_type": "markdown",
   "metadata": {},
   "source": [
    "### Top country dataframe with percentage of total"
   ]
  },
  {
   "cell_type": "code",
   "execution_count": 13,
   "metadata": {},
   "outputs": [
    {
     "data": {
      "text/html": [
       "<div>\n",
       "<style>\n",
       "    .dataframe thead tr:only-child th {\n",
       "        text-align: right;\n",
       "    }\n",
       "\n",
       "    .dataframe thead th {\n",
       "        text-align: left;\n",
       "    }\n",
       "\n",
       "    .dataframe tbody tr th {\n",
       "        vertical-align: top;\n",
       "    }\n",
       "</style>\n",
       "<table border=\"1\" class=\"dataframe\">\n",
       "  <thead>\n",
       "    <tr style=\"text-align: right;\">\n",
       "      <th></th>\n",
       "      <th>country</th>\n",
       "      <th>Percentage of Total</th>\n",
       "    </tr>\n",
       "  </thead>\n",
       "  <tbody>\n",
       "    <tr>\n",
       "      <th>US</th>\n",
       "      <td>10255</td>\n",
       "      <td>15.744949</td>\n",
       "    </tr>\n",
       "    <tr>\n",
       "      <th>RU</th>\n",
       "      <td>5024</td>\n",
       "      <td>7.713566</td>\n",
       "    </tr>\n",
       "    <tr>\n",
       "      <th>DE</th>\n",
       "      <td>4578</td>\n",
       "      <td>7.028803</td>\n",
       "    </tr>\n",
       "    <tr>\n",
       "      <th>UK</th>\n",
       "      <td>4534</td>\n",
       "      <td>6.961248</td>\n",
       "    </tr>\n",
       "    <tr>\n",
       "      <th>PL</th>\n",
       "      <td>4408</td>\n",
       "      <td>6.767795</td>\n",
       "    </tr>\n",
       "    <tr>\n",
       "      <th>BR</th>\n",
       "      <td>3886</td>\n",
       "      <td>5.966345</td>\n",
       "    </tr>\n",
       "    <tr>\n",
       "      <th>FI</th>\n",
       "      <td>1409</td>\n",
       "      <td>2.163299</td>\n",
       "    </tr>\n",
       "    <tr>\n",
       "      <th>NL</th>\n",
       "      <td>1375</td>\n",
       "      <td>2.111097</td>\n",
       "    </tr>\n",
       "    <tr>\n",
       "      <th>ES</th>\n",
       "      <td>1243</td>\n",
       "      <td>1.908432</td>\n",
       "    </tr>\n",
       "    <tr>\n",
       "      <th>SE</th>\n",
       "      <td>1231</td>\n",
       "      <td>1.890008</td>\n",
       "    </tr>\n",
       "    <tr>\n",
       "      <th>UA</th>\n",
       "      <td>1143</td>\n",
       "      <td>1.754898</td>\n",
       "    </tr>\n",
       "    <tr>\n",
       "      <th>CA</th>\n",
       "      <td>1077</td>\n",
       "      <td>1.653565</td>\n",
       "    </tr>\n",
       "    <tr>\n",
       "      <th>FR</th>\n",
       "      <td>1055</td>\n",
       "      <td>1.619788</td>\n",
       "    </tr>\n",
       "  </tbody>\n",
       "</table>\n",
       "</div>"
      ],
      "text/plain": [
       "    country  Percentage of Total\n",
       "US    10255            15.744949\n",
       "RU     5024             7.713566\n",
       "DE     4578             7.028803\n",
       "UK     4534             6.961248\n",
       "PL     4408             6.767795\n",
       "BR     3886             5.966345\n",
       "FI     1409             2.163299\n",
       "NL     1375             2.111097\n",
       "ES     1243             1.908432\n",
       "SE     1231             1.890008\n",
       "UA     1143             1.754898\n",
       "CA     1077             1.653565\n",
       "FR     1055             1.619788"
      ]
     },
     "execution_count": 13,
     "metadata": {},
     "output_type": "execute_result"
    }
   ],
   "source": [
    "top_user_country"
   ]
  },
  {
   "cell_type": "code",
   "execution_count": 14,
   "metadata": {
    "collapsed": true
   },
   "outputs": [],
   "source": [
    "user_data_frame=user_data_frame[ (user_data_frame['gender']!='n') & (user_data_frame['gender']!='')]\n",
    "gender_mapping = {'m':'Male','f':'Female'}\n",
    "user_data_frame['gender']=user_data_frame['gender'].map(gender_mapping)"
   ]
  },
  {
   "cell_type": "markdown",
   "metadata": {},
   "source": [
    "### Gender distribution across the dataset"
   ]
  },
  {
   "cell_type": "code",
   "execution_count": 15,
   "metadata": {},
   "outputs": [
    {
     "data": {
      "text/plain": [
       "Male      39969\n",
       "Female    15802\n",
       "Name: gender, dtype: int64"
      ]
     },
     "execution_count": 15,
     "metadata": {},
     "output_type": "execute_result"
    }
   ],
   "source": [
    "user_data_frame['gender'].value_counts()"
   ]
  },
  {
   "cell_type": "code",
   "execution_count": 16,
   "metadata": {
    "collapsed": true
   },
   "outputs": [],
   "source": [
    "user_data_frame['age'] =pd.to_numeric(user_data_frame['age'])"
   ]
  },
  {
   "cell_type": "markdown",
   "metadata": {},
   "source": [
    "### Removing the outliers from Age column"
   ]
  },
  {
   "cell_type": "code",
   "execution_count": 18,
   "metadata": {
    "collapsed": true
   },
   "outputs": [],
   "source": [
    "user_age = user_data_frame[(user_data_frame['age']!=-1)&(user_data_frame['age']<110)]"
   ]
  },
  {
   "cell_type": "markdown",
   "metadata": {},
   "source": [
    "### Age distribution across the dataset"
   ]
  },
  {
   "cell_type": "code",
   "execution_count": 21,
   "metadata": {},
   "outputs": [
    {
     "data": {
      "image/png": "[encoded data removed]",
      "text/plain": [
       "<matplotlib.figure.Figure at 0x1400b5774a8>"
      ]
     },
     "metadata": {},
     "output_type": "display_data"
    }
   ],
   "source": [
    "plt.hist(user_age['age'])\n",
    "plt.xlabel('Age')\n",
    "plt.ylabel('Count')\n",
    "plt.title('Age Distribution Across the Dataset')\n",
    "plt.show()"
   ]
  },
  {
   "cell_type": "markdown",
   "metadata": {},
   "source": [
    "### Loading the User_additional.txt"
   ]
  },
  {
   "cell_type": "code",
   "execution_count": 22,
   "metadata": {
    "collapsed": true
   },
   "outputs": [],
   "source": [
    "user_add_data=[]\n",
    "with open('F:\\\\my_uwt\\\\tri3\\\\LFM-1b\\\\LFM-1b_users_additional.txt','rt') as f:\n",
    "    for l in f:\n",
    "        line= l.split('\\t')\n",
    "        line[-1]=line[-1].replace('\\n','')\n",
    "        user_add_data.append(line)"
   ]
  },
  {
   "cell_type": "code",
   "execution_count": 23,
   "metadata": {
    "collapsed": true
   },
   "outputs": [],
   "source": [
    "user_add_dataframe = pd.DataFrame(user_add_data,columns=user_add_data[0])\n",
    "user_add_dataframe = user_add_dataframe[1:]"
   ]
  },
  {
   "cell_type": "markdown",
   "metadata": {},
   "source": [
    "### Subset dataframe from User_additional dataframe"
   ]
  },
  {
   "cell_type": "code",
   "execution_count": 24,
   "metadata": {
    "collapsed": true
   },
   "outputs": [],
   "source": [
    "user_add_1 = user_add_dataframe.loc[:,['user-id','novelty_artist_avg_year']]"
   ]
  },
  {
   "cell_type": "code",
   "execution_count": 25,
   "metadata": {
    "collapsed": true
   },
   "outputs": [],
   "source": [
    "user_nov_bins = [0,0.2,0.4,0.6,0.8,1]\n",
    "user_nov_label = [0.2,0.4,0.6,0.8,1]\n",
    "user_add_1 =user_add_1[user_add_1['novelty_artist_avg_year']!='?']\n",
    "user_add_1['novelty_artist_avg_year']=user_add_1['novelty_artist_avg_year'].map(float)\n",
    "user_add_1['binned']= pd.cut(user_add_1['novelty_artist_avg_year'],bins=user_nov_bins,labels=user_nov_label)"
   ]
  },
  {
   "cell_type": "markdown",
   "metadata": {},
   "source": [
    "### Count of users across binned data, for Novely_Artist_Avg_year"
   ]
  },
  {
   "cell_type": "code",
   "execution_count": 26,
   "metadata": {},
   "outputs": [
    {
     "data": {
      "text/plain": [
       "0.6    40019\n",
       "0.4    29194\n",
       "0.8    25495\n",
       "1.0    10474\n",
       "0.2     6480\n",
       "Name: binned, dtype: int64"
      ]
     },
     "execution_count": 26,
     "metadata": {},
     "output_type": "execute_result"
    }
   ],
   "source": [
    "user_add_1['binned'].value_counts()"
   ]
  },
  {
   "cell_type": "markdown",
   "metadata": {},
   "source": [
    "### Merging certain columns of user_text dataframe and user_additional dataframe"
   ]
  },
  {
   "cell_type": "code",
   "execution_count": 27,
   "metadata": {
    "collapsed": true
   },
   "outputs": [],
   "source": [
    "user1 = user_data_frame.loc[:,['user-id','playcount']]\n",
    "user2 = user_add_dataframe.loc[:,['user-id','cnt_listeningevents','cnt_distinct_tracks','cnt_distinct_artists','cnt_listeningevents_per_week']]"
   ]
  },
  {
   "cell_type": "code",
   "execution_count": 28,
   "metadata": {
    "collapsed": true
   },
   "outputs": [],
   "source": [
    "user_combined = pd.merge(left=user2,right=user1,left_on='user-id',right_on='user-id')"
   ]
  },
  {
   "cell_type": "code",
   "execution_count": 29,
   "metadata": {},
   "outputs": [
    {
     "data": {
      "text/html": [
       "<div>\n",
       "<style>\n",
       "    .dataframe thead tr:only-child th {\n",
       "        text-align: right;\n",
       "    }\n",
       "\n",
       "    .dataframe thead th {\n",
       "        text-align: left;\n",
       "    }\n",
       "\n",
       "    .dataframe tbody tr th {\n",
       "        vertical-align: top;\n",
       "    }\n",
       "</style>\n",
       "<table border=\"1\" class=\"dataframe\">\n",
       "  <thead>\n",
       "    <tr style=\"text-align: right;\">\n",
       "      <th></th>\n",
       "      <th>user-id</th>\n",
       "      <th>cnt_listeningevents</th>\n",
       "      <th>cnt_distinct_tracks</th>\n",
       "      <th>cnt_distinct_artists</th>\n",
       "      <th>cnt_listeningevents_per_week</th>\n",
       "      <th>playcount</th>\n",
       "    </tr>\n",
       "  </thead>\n",
       "  <tbody>\n",
       "    <tr>\n",
       "      <th>0</th>\n",
       "      <td>384</td>\n",
       "      <td>17198</td>\n",
       "      <td>3601</td>\n",
       "      <td>330</td>\n",
       "      <td>196.229</td>\n",
       "      <td>42139</td>\n",
       "    </tr>\n",
       "    <tr>\n",
       "      <th>1</th>\n",
       "      <td>3653</td>\n",
       "      <td>18238</td>\n",
       "      <td>9839</td>\n",
       "      <td>2151</td>\n",
       "      <td>41.8051</td>\n",
       "      <td>18504</td>\n",
       "    </tr>\n",
       "    <tr>\n",
       "      <th>2</th>\n",
       "      <td>4813</td>\n",
       "      <td>868</td>\n",
       "      <td>775</td>\n",
       "      <td>264</td>\n",
       "      <td>2.1297</td>\n",
       "      <td>640</td>\n",
       "    </tr>\n",
       "    <tr>\n",
       "      <th>3</th>\n",
       "      <td>5069</td>\n",
       "      <td>17732</td>\n",
       "      <td>9259</td>\n",
       "      <td>2213</td>\n",
       "      <td>65.1202</td>\n",
       "      <td>31867</td>\n",
       "    </tr>\n",
       "    <tr>\n",
       "      <th>4</th>\n",
       "      <td>6958</td>\n",
       "      <td>19862</td>\n",
       "      <td>6126</td>\n",
       "      <td>2152</td>\n",
       "      <td>110.743</td>\n",
       "      <td>34788</td>\n",
       "    </tr>\n",
       "  </tbody>\n",
       "</table>\n",
       "</div>"
      ],
      "text/plain": [
       "  user-id cnt_listeningevents cnt_distinct_tracks cnt_distinct_artists  \\\n",
       "0     384               17198                3601                  330   \n",
       "1    3653               18238                9839                 2151   \n",
       "2    4813                 868                 775                  264   \n",
       "3    5069               17732                9259                 2213   \n",
       "4    6958               19862                6126                 2152   \n",
       "\n",
       "  cnt_listeningevents_per_week playcount  \n",
       "0                      196.229     42139  \n",
       "1                      41.8051     18504  \n",
       "2                       2.1297       640  \n",
       "3                      65.1202     31867  \n",
       "4                      110.743     34788  "
      ]
     },
     "execution_count": 29,
     "metadata": {},
     "output_type": "execute_result"
    }
   ],
   "source": [
    "user_combined.head()"
   ]
  },
  {
   "cell_type": "code",
   "execution_count": 30,
   "metadata": {
    "collapsed": true
   },
   "outputs": [],
   "source": [
    "user_combined['cnt_listeningevents']=user_combined['cnt_listeningevents'].map(int)\n",
    "user_combined['cnt_distinct_tracks']=user_combined['cnt_distinct_tracks'].map(int)\n",
    "user_combined['cnt_distinct_artists']=user_combined['cnt_distinct_artists'].map(int)\n",
    "user_combined['cnt_listeningevents_per_week']=user_combined['cnt_listeningevents_per_week'].map(float)\n",
    "user_combined['playcount']=user_combined['playcount'].map(int)"
   ]
  },
  {
   "cell_type": "markdown",
   "metadata": {},
   "source": [
    "### Description of the dataframe for columns with mean, std, count"
   ]
  },
  {
   "cell_type": "code",
   "execution_count": 32,
   "metadata": {},
   "outputs": [
    {
     "data": {
      "text/html": [
       "<div>\n",
       "<style>\n",
       "    .dataframe thead tr:only-child th {\n",
       "        text-align: right;\n",
       "    }\n",
       "\n",
       "    .dataframe thead th {\n",
       "        text-align: left;\n",
       "    }\n",
       "\n",
       "    .dataframe tbody tr th {\n",
       "        vertical-align: top;\n",
       "    }\n",
       "</style>\n",
       "<table border=\"1\" class=\"dataframe\">\n",
       "  <thead>\n",
       "    <tr style=\"text-align: right;\">\n",
       "      <th></th>\n",
       "      <th>cnt_listeningevents</th>\n",
       "      <th>cnt_distinct_tracks</th>\n",
       "      <th>cnt_distinct_artists</th>\n",
       "      <th>cnt_listeningevents_per_week</th>\n",
       "      <th>playcount</th>\n",
       "    </tr>\n",
       "  </thead>\n",
       "  <tbody>\n",
       "    <tr>\n",
       "      <th>count</th>\n",
       "      <td>55771.000000</td>\n",
       "      <td>55771.000000</td>\n",
       "      <td>55771.000000</td>\n",
       "      <td>55771.000000</td>\n",
       "      <td>5.577100e+04</td>\n",
       "    </tr>\n",
       "    <tr>\n",
       "      <th>mean</th>\n",
       "      <td>14327.653171</td>\n",
       "      <td>3890.220724</td>\n",
       "      <td>696.792509</td>\n",
       "      <td>123.479663</td>\n",
       "      <td>2.870625e+04</td>\n",
       "    </tr>\n",
       "    <tr>\n",
       "      <th>std</th>\n",
       "      <td>20290.055846</td>\n",
       "      <td>4264.254334</td>\n",
       "      <td>799.432216</td>\n",
       "      <td>228.915432</td>\n",
       "      <td>4.338270e+04</td>\n",
       "    </tr>\n",
       "    <tr>\n",
       "      <th>min</th>\n",
       "      <td>1.000000</td>\n",
       "      <td>1.000000</td>\n",
       "      <td>1.000000</td>\n",
       "      <td>0.000000</td>\n",
       "      <td>-1.000000e+00</td>\n",
       "    </tr>\n",
       "    <tr>\n",
       "      <th>25%</th>\n",
       "      <td>3029.000000</td>\n",
       "      <td>1136.000000</td>\n",
       "      <td>219.000000</td>\n",
       "      <td>29.773950</td>\n",
       "      <td>1.652000e+03</td>\n",
       "    </tr>\n",
       "    <tr>\n",
       "      <th>50%</th>\n",
       "      <td>12861.000000</td>\n",
       "      <td>2883.000000</td>\n",
       "      <td>460.000000</td>\n",
       "      <td>77.288500</td>\n",
       "      <td>1.416100e+04</td>\n",
       "    </tr>\n",
       "    <tr>\n",
       "      <th>75%</th>\n",
       "      <td>19595.000000</td>\n",
       "      <td>5350.500000</td>\n",
       "      <td>894.000000</td>\n",
       "      <td>152.829500</td>\n",
       "      <td>3.932750e+04</td>\n",
       "    </tr>\n",
       "    <tr>\n",
       "      <th>max</th>\n",
       "      <td>612822.000000</td>\n",
       "      <td>156805.000000</td>\n",
       "      <td>34987.000000</td>\n",
       "      <td>21060.200000</td>\n",
       "      <td>1.000150e+06</td>\n",
       "    </tr>\n",
       "  </tbody>\n",
       "</table>\n",
       "</div>"
      ],
      "text/plain": [
       "       cnt_listeningevents  cnt_distinct_tracks  cnt_distinct_artists  \\\n",
       "count         55771.000000         55771.000000          55771.000000   \n",
       "mean          14327.653171          3890.220724            696.792509   \n",
       "std           20290.055846          4264.254334            799.432216   \n",
       "min               1.000000             1.000000              1.000000   \n",
       "25%            3029.000000          1136.000000            219.000000   \n",
       "50%           12861.000000          2883.000000            460.000000   \n",
       "75%           19595.000000          5350.500000            894.000000   \n",
       "max          612822.000000        156805.000000          34987.000000   \n",
       "\n",
       "       cnt_listeningevents_per_week     playcount  \n",
       "count                  55771.000000  5.577100e+04  \n",
       "mean                     123.479663  2.870625e+04  \n",
       "std                      228.915432  4.338270e+04  \n",
       "min                        0.000000 -1.000000e+00  \n",
       "25%                       29.773950  1.652000e+03  \n",
       "50%                       77.288500  1.416100e+04  \n",
       "75%                      152.829500  3.932750e+04  \n",
       "max                    21060.200000  1.000150e+06  "
      ]
     },
     "execution_count": 32,
     "metadata": {},
     "output_type": "execute_result"
    }
   ],
   "source": [
    "user_combined.describe()"
   ]
  },
  {
   "cell_type": "code",
   "execution_count": null,
   "metadata": {},
   "outputs": [],
   "source": []
  },
  {
   "cell_type": "markdown",
   "metadata": {},
   "source": [
    "### Plot which shows relationship between Total Listening Events and Avg Listening event per week"
   ]
  },
  {
   "cell_type": "code",
   "execution_count": 45,
   "metadata": {
    "collapsed": true
   },
   "outputs": [],
   "source": [
    "#From below chart it is evident that there are some users who have less total listening events \n",
    "#but their avg_listening per week is very high. For listening event as 1 it is also seen that avg listening per week is 0, \n",
    "#which shows that no songs were played"
   ]
  },
  {
   "cell_type": "code",
   "execution_count": 41,
   "metadata": {},
   "outputs": [
    {
     "data": {
      "image/png": "[encoded data removed]",
      "text/plain": [
       "<matplotlib.figure.Figure at 0x140239036d8>"
      ]
     },
     "metadata": {},
     "output_type": "display_data"
    }
   ],
   "source": [
    "plt.scatter(user_combined['cnt_listeningevents'],user_combined['cnt_listeningevents_per_week'])\n",
    "plt.xlabel('Listening Events Count')\n",
    "plt.ylabel('Average Listening Events per Week')\n",
    "plt.show()"
   ]
  },
  {
   "cell_type": "markdown",
   "metadata": {},
   "source": [
    "### Plot to show relationship between listening evnets and distinct tracks"
   ]
  },
  {
   "cell_type": "code",
   "execution_count": 48,
   "metadata": {
    "collapsed": true
   },
   "outputs": [],
   "source": [
    "#From the plot it is evident that there is a linear relationship between the two"
   ]
  },
  {
   "cell_type": "code",
   "execution_count": 49,
   "metadata": {},
   "outputs": [
    {
     "data": {
      "image/png": "[encoded data removed]",
      "text/plain": [
       "<matplotlib.figure.Figure at 0x14023b27940>"
      ]
     },
     "metadata": {},
     "output_type": "display_data"
    }
   ],
   "source": [
    "plt.scatter(user_combined['cnt_listeningevents'],user_combined['cnt_distinct_tracks'])\n",
    "plt.xlabel('Listening Events Count')\n",
    "plt.ylabel('Distinct Tracks')\n",
    "plt.show()"
   ]
  },
  {
   "cell_type": "markdown",
   "metadata": {},
   "source": [
    "### Plot between Playcount and Distinct tracks"
   ]
  },
  {
   "cell_type": "code",
   "execution_count": 53,
   "metadata": {
    "collapsed": true
   },
   "outputs": [],
   "source": [
    "#From the plot it is evident that the is a linear relationship between the two. \n",
    "#However, there are certain observations-for certain high values of listening events the value of distinct tracks\n",
    "#is extremely low which shows that same songs were played over and over again\n",
    "#For certain values of mid values of listening event it is evident that there were many distinct tracks were listened which \n",
    "#could either be because of seraching for a particular similar song  or the user is avid user"
   ]
  },
  {
   "cell_type": "code",
   "execution_count": 59,
   "metadata": {},
   "outputs": [
    {
     "data": {
      "image/png": "[encoded data removed]",
      "text/plain": [
       "<matplotlib.figure.Figure at 0x14024e12b00>"
      ]
     },
     "metadata": {},
     "output_type": "display_data"
    }
   ],
   "source": [
    "plt.scatter(user_combined['playcount'],user_combined['cnt_distinct_tracks'])\n",
    "plt.xlabel('Playcount')\n",
    "plt.ylabel('Distinct Tracks')\n",
    "plt.show()"
   ]
  },
  {
   "cell_type": "markdown",
   "metadata": {},
   "source": [
    "### Loading the music lyrics dataset (obtained from kaggle)"
   ]
  },
  {
   "cell_type": "code",
   "execution_count": 65,
   "metadata": {},
   "outputs": [],
   "source": [
    "lyrics_df = pd.read_csv('F:\\\\my_uwt\\\\tri3\\\\LFM-1b\\\\songdata.csv')"
   ]
  },
  {
   "cell_type": "code",
   "execution_count": 83,
   "metadata": {},
   "outputs": [],
   "source": [
    "song_title = lyrics_df['song']\n",
    "song_title = song_title.tolist()"
   ]
  },
  {
   "cell_type": "markdown",
   "metadata": {},
   "source": [
    "### Loading th tracks.txt obtained from LFM-1b dataset"
   ]
  },
  {
   "cell_type": "code",
   "execution_count": 99,
   "metadata": {},
   "outputs": [],
   "source": [
    "tracks_df = pd.read_csv('f:\\\\my_uwt\\\\tri3\\\\LFM-1b\\\\tracks.csv')"
   ]
  },
  {
   "cell_type": "code",
   "execution_count": 110,
   "metadata": {
    "collapsed": true
   },
   "outputs": [],
   "source": [
    "dataset=pd.read_csv('F:\\\\my_uwt\\\\tri3\\\\LFM-1b\\\\songdata.csv')"
   ]
  },
  {
   "cell_type": "code",
   "execution_count": 111,
   "metadata": {},
   "outputs": [],
   "source": [
    "train_data = dataset[:]\n",
    "train_data = np.array(train_data['text'])"
   ]
  },
  {
   "cell_type": "code",
   "execution_count": 128,
   "metadata": {
    "collapsed": true
   },
   "outputs": [],
   "source": [
    "### Since the Music Lyrics is unlabelled dataset i.e. the songs have lyrics but not sentiment, \n",
    "#so to calculate the sentiment, we user NRC Sentiment Analyser and create labelled data"
   ]
  },
  {
   "cell_type": "code",
   "execution_count": 112,
   "metadata": {},
   "outputs": [],
   "source": [
    "stemmer = PorterStemmer()\n",
    "dataset['Splitted']=dataset['text'].apply(lambda x: [y for y in x.split(\" \")])\n",
    "dataset['Stemmed']=dataset['Splitted'].apply(lambda x : [stemmer.stem(y) for y in x])\n",
    "dataset['OnlyAlpha']=dataset['Stemmed'].apply(lambda x: [y for y in x if y.isalpha()])\n",
    "filtered_words = stopwords.words('english')\n",
    "dataset['Lyrics']=dataset['OnlyAlpha'].apply(lambda x: [y for y in x if y not in filtered_words])\n",
    "dataset=dataset.drop(['Splitted','Stemmed','OnlyAlpha'],axis=1)"
   ]
  },
  {
   "cell_type": "code",
   "execution_count": 113,
   "metadata": {},
   "outputs": [],
   "source": [
    "senti_try={}\n",
    "with open('NRC_emotion_lexicon_list.txt','r') as f:\n",
    "    for lines in f:\n",
    "        lines=lines.replace(\"\\n\",\"\")\n",
    "        line = lines.split(\"\\t\")\n",
    "        if ((line[2]=='1') and (line[1]=='negative')):\n",
    "            senti_try.update({line[0]:'Negative'})\n",
    "        elif ((line[1]=='positive') and (line[2]=='1')):\n",
    "            senti_try.update({line[0]:'Positive'})\n",
    "result=[]\n",
    "for i,j in dataset.iterrows():\n",
    "    pos=0\n",
    "    neg=0\n",
    "    l=j[4]\n",
    "    for k in l:\n",
    "        #print(k)\n",
    "        if ((k in senti_try)):\n",
    "            if (senti_try[k]=='Negative'):\n",
    "                neg=neg+1\n",
    "            else:\n",
    "                pos=pos+1\n",
    "    if pos>neg:\n",
    "        result.append('Positive')\n",
    "    else:\n",
    "        result.append('Negative')\n",
    "#dataset['NRC_sentiment']=result\n",
    "dataset['sentiment']=result"
   ]
  },
  {
   "cell_type": "code",
   "execution_count": 115,
   "metadata": {},
   "outputs": [],
   "source": [
    "lyrics_df1 = pd.merge(left=lyrics_df,right=dataset,left_on='song',right_on='song')"
   ]
  },
  {
   "cell_type": "code",
   "execution_count": 116,
   "metadata": {
    "collapsed": true
   },
   "outputs": [],
   "source": [
    "tracks_lyrics = pd.merge(left= lyrics_df1,right=tracks_df,left_on='song',right_on='track-name')"
   ]
  },
  {
   "cell_type": "code",
   "execution_count": 129,
   "metadata": {},
   "outputs": [],
   "source": [
    "# dropping duplicate values"
   ]
  },
  {
   "cell_type": "code",
   "execution_count": 118,
   "metadata": {
    "collapsed": true
   },
   "outputs": [],
   "source": [
    "tracks_lyrics =tracks_lyrics.drop(['link_x','artist_y','link_y','text_y','Lyrics'],axis=1)"
   ]
  },
  {
   "cell_type": "code",
   "execution_count": 124,
   "metadata": {},
   "outputs": [],
   "source": [
    "track_lyrics1 = tracks_lyrics[['track-name','text_x','sentiment']]"
   ]
  },
  {
   "cell_type": "code",
   "execution_count": 125,
   "metadata": {
    "collapsed": true
   },
   "outputs": [],
   "source": [
    "track_lyrics1 = track_lyrics1.drop_duplicates(['track-name','text_x'])"
   ]
  },
  {
   "cell_type": "code",
   "execution_count": 130,
   "metadata": {
    "collapsed": true
   },
   "outputs": [],
   "source": [
    "## below table shows the number of Positive and Negative Sentiment Songs."
   ]
  },
  {
   "cell_type": "code",
   "execution_count": 136,
   "metadata": {},
   "outputs": [
    {
     "data": {
      "text/plain": [
       "Positive    32464\n",
       "Negative    20534\n",
       "Name: sentiment, dtype: int64"
      ]
     },
     "execution_count": 136,
     "metadata": {},
     "output_type": "execute_result"
    }
   ],
   "source": [
    "track_lyrics1['sentiment'].value_counts()"
   ]
  },
  {
   "cell_type": "code",
   "execution_count": null,
   "metadata": {},
   "outputs": [],
   "source": []
  },
  {
   "cell_type": "code",
   "execution_count": 139,
   "metadata": {},
   "outputs": [],
   "source": []
  },
  {
   "cell_type": "code",
   "execution_count": null,
   "metadata": {
    "collapsed": true
   },
   "outputs": [],
   "source": []
  }
 ],
 "metadata": {
  "kernelspec": {
   "display_name": "Python 3",
   "language": "python",
   "name": "python3"
  },
  "language_info": {
   "codemirror_mode": {
    "name": "ipython",
    "version": 3
   },
   "file_extension": ".py",
   "mimetype": "text/x-python",
   "name": "python",
   "nbconvert_exporter": "python",
   "pygments_lexer": "ipython3",
   "version": "3.6.3"
  }
 },
 "nbformat": 4,
 "nbformat_minor": 2
}
